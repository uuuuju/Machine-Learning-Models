{
  "nbformat": 4,
  "nbformat_minor": 0,
  "metadata": {
    "colab": {
      "name": "Linear Regression.ipynb",
      "provenance": [],
      "authorship_tag": "ABX9TyPKAHFh7pPLxQIpsOx0wdG0",
      "include_colab_link": true
    },
    "kernelspec": {
      "name": "python3",
      "display_name": "Python 3"
    },
    "language_info": {
      "name": "python"
    }
  },
  "cells": [
    {
      "cell_type": "markdown",
      "metadata": {
        "id": "view-in-github",
        "colab_type": "text"
      },
      "source": [
        "<a href=\"https://colab.research.google.com/github/uuuuju/Machine-Learning-Models/blob/main/Linear_Regression.ipynb\" target=\"_parent\"><img src=\"https://colab.research.google.com/assets/colab-badge.svg\" alt=\"Open In Colab\"/></a>"
      ]
    },
    {
      "cell_type": "code",
      "execution_count": 1,
      "metadata": {
        "id": "9GC-262x0MPq"
      },
      "outputs": [],
      "source": [
        "import numpy as np\n",
        "from sklearn.datasets import make_regression\n",
        "import matplotlib.pyplot as plt"
      ]
    },
    {
      "cell_type": "code",
      "source": [
        "X, y = make_regression(n_samples=100, n_features=1, n_targets=1, noise=10, random_state=42)\n",
        "plt.scatter(X, y)\n",
        "plt.show()"
      ],
      "metadata": {
        "colab": {
          "base_uri": "https://localhost:8080/",
          "height": 265
        },
        "id": "ybwry5QP0Uj5",
        "outputId": "f5baead7-0ea8-46ec-c1a1-8ad46079f314"
      },
      "execution_count": 2,
      "outputs": [
        {
          "output_type": "display_data",
          "data": {
            "text/plain": [
              "<Figure size 432x288 with 1 Axes>"
            ],
            "image/png": "[encoded data removed]"
          },
          "metadata": {
            "needs_background": "light"
          }
        }
      ]
    },
    {
      "cell_type": "code",
      "source": [
        "print(type(X), X.shape)\n",
        "print(type(y), y.shape)"
      ],
      "metadata": {
        "colab": {
          "base_uri": "https://localhost:8080/"
        },
        "id": "WKvhzD620X3s",
        "outputId": "e449c376-c48a-40bb-c675-9a9cbbc6e0b4"
      },
      "execution_count": 3,
      "outputs": [
        {
          "output_type": "stream",
          "name": "stdout",
          "text": [
            "<class 'numpy.ndarray'> (100, 1)\n",
            "<class 'numpy.ndarray'> (100,)\n"
          ]
        }
      ]
    },
    {
      "cell_type": "code",
      "source": [
        "from sklearn.linear_model import LinearRegression\n",
        "regression = LinearRegression()\n",
        "regression.fit(X, y)\n",
        "W, b = regression.coef_, regression.intercept_"
      ],
      "metadata": {
        "id": "_HSN5q7m0Z0d"
      },
      "execution_count": 4,
      "outputs": []
    },
    {
      "cell_type": "code",
      "source": [
        "y_hat = W * X + b\n",
        "plt.plot(X, y_hat, color=\"green\")\n",
        "plt.scatter(X, y)\n",
        "plt.show"
      ],
      "metadata": {
        "colab": {
          "base_uri": "https://localhost:8080/",
          "height": 282
        },
        "id": "49dnDMhn0cXD",
        "outputId": "fa45cd06-86f4-465b-e7db-27ab3a0fd6ad"
      },
      "execution_count": 5,
      "outputs": [
        {
          "output_type": "execute_result",
          "data": {
            "text/plain": [
              "<function matplotlib.pyplot.show>"
            ]
          },
          "metadata": {},
          "execution_count": 5
        },
        {
          "output_type": "display_data",
          "data": {
            "text/plain": [
              "<Figure size 432x288 with 1 Axes>"
            ],
            "image/png": "[encoded data removed]"
          },
          "metadata": {
            "needs_background": "light"
          }
        }
      ]
    },
    {
      "cell_type": "code",
      "source": [
        "n_samples = 200  # No. of samples taken\n",
        "n_features = 10  # No. of features / No. of values in X\n",
        "n_targets = 2  # No. of target variables / No. of values in y\n",
        "\n",
        "X, y = make_regression(\n",
        "    n_samples=n_samples,\n",
        "    n_features=n_features,\n",
        "    n_targets=n_targets,\n",
        "    noise=2\n",
        ")"
      ],
      "metadata": {
        "id": "sCGffR6W0eOu"
      },
      "execution_count": 6,
      "outputs": []
    },
    {
      "cell_type": "code",
      "source": [
        "print(\"Shape of each X : {}\".format(X.shape))\n",
        "print(\"Shape of each y : {}\".format(y[0].shape))"
      ],
      "metadata": {
        "colab": {
          "base_uri": "https://localhost:8080/"
        },
        "id": "_XkTXgkZ0hRk",
        "outputId": "bfc4d0d7-ada1-43f0-a8a9-967e57028509"
      },
      "execution_count": 7,
      "outputs": [
        {
          "output_type": "stream",
          "name": "stdout",
          "text": [
            "Shape of each X : (200, 10)\n",
            "Shape of each y : (2,)\n"
          ]
        }
      ]
    },
    {
      "cell_type": "code",
      "source": [
        "W = np.random.normal(size=(n_targets, n_features))\n",
        "b = np.random.normal(size=(n_targets, 1))\n",
        "\n",
        "print(\"Shape of W : {}\".format(W.shape))\n",
        "print(\"Shape of b : {}\".format(b.shape))\n",
        "\n",
        "def loss_fn(y_hat, y):\n",
        "    return 1/n_samples * np.sum((y_hat - y)**2)\n",
        "\n",
        "loss = 0\n",
        "for i in range(n_samples):\n",
        "    y_hat = np.dot(W, X[i]) + b\n",
        "    loss += loss_fn(y_hat, y[i])\n",
        "\n",
        "print(\"\\nLoss = {}\".format(loss))"
      ],
      "metadata": {
        "colab": {
          "base_uri": "https://localhost:8080/"
        },
        "id": "yEztYXHd0jRf",
        "outputId": "53310a83-6fb0-4c80-9a94-13d31a6ad841"
      },
      "execution_count": 8,
      "outputs": [
        {
          "output_type": "stream",
          "name": "stdout",
          "text": [
            "Shape of W : (2, 10)\n",
            "Shape of b : (2, 1)\n",
            "\n",
            "Loss = 174854.3219559426\n"
          ]
        }
      ]
    },
    {
      "cell_type": "code",
      "source": [
        "regression.fit(X, y)\n",
        "W, b = regression.coef_, regression.intercept_\n",
        "\n",
        "print(\"Shape of W : {}\".format(W.shape))\n",
        "print(\"Shape of b : {}\".format(b.shape))\n",
        "\n",
        "loss = 0\n",
        "for i in range(n_samples):\n",
        "    y_hat = np.dot(W, X[i]) + b\n",
        "    loss += loss_fn(y_hat, y[i])\n",
        "\n",
        "print(\"\\nLoss = {}\".format(loss))"
      ],
      "metadata": {
        "colab": {
          "base_uri": "https://localhost:8080/"
        },
        "id": "oKgsBXx70nIB",
        "outputId": "090aa681-c1e4-4aea-fb29-6e606287d4e0"
      },
      "execution_count": 9,
      "outputs": [
        {
          "output_type": "stream",
          "name": "stdout",
          "text": [
            "Shape of W : (2, 10)\n",
            "Shape of b : (2,)\n",
            "\n",
            "Loss = 7.648795564944635\n"
          ]
        }
      ]
    },
    {
      "cell_type": "code",
      "source": [
        "n_samples = 200  # No. of samples taken\n",
        "n_features = 500  # No. of features / No. of values in X\n",
        "n_targets = 10  # No. of target variables / No. of values in y\n",
        "\n",
        "X, y = make_regression(\n",
        "    n_samples=n_samples,\n",
        "    n_features=n_features,\n",
        "    n_targets=n_targets,\n",
        "    noise=2\n",
        ")"
      ],
      "metadata": {
        "id": "I6ml3ml-0rw0"
      },
      "execution_count": 10,
      "outputs": []
    },
    {
      "cell_type": "code",
      "source": [
        "W = np.random.normal(size=(n_targets, n_features))\n",
        "b = np.random.normal(size=(n_targets,))\n",
        "\n",
        "print(\"Shape of W : {}\".format(W.shape))\n",
        "print(\"Shape of b : {}\".format(b.shape))\n",
        "\n",
        "loss = 0\n",
        "for i in range(n_samples):\n",
        "    y_hat = np.dot(W, X[i]) + b\n",
        "    loss += loss_fn(y_hat, y[i])\n",
        "\n",
        "print(\"\\nLoss = {}\".format(loss))"
      ],
      "metadata": {
        "colab": {
          "base_uri": "https://localhost:8080/"
        },
        "id": "NrjEBQpx08_o",
        "outputId": "04176bba-77d6-4ab3-aa5b-a1c79f3cdcac"
      },
      "execution_count": 11,
      "outputs": [
        {
          "output_type": "stream",
          "name": "stdout",
          "text": [
            "Shape of W : (10, 500)\n",
            "Shape of b : (10,)\n",
            "\n",
            "Loss = 303556.18382125197\n"
          ]
        }
      ]
    },
    {
      "cell_type": "code",
      "source": [
        "W = np.random.normal(size=(n_targets, n_features))\n",
        "b = np.random.normal(size=(n_targets, 1))\n",
        "\n",
        "loss_history = []\n",
        "\n",
        "learning_rate =   0.001  #@param {type:\"number\"}\n",
        "num_epochs = 100  #@param {type:\"slider\", min:1, max:100, step:1}\n",
        "\n",
        "for epoch in range(num_epochs):  # One epoch is one iteration of training in Deep Learning terms\n",
        "    loss = 0\n",
        "    for i in range(n_samples):\n",
        "        X_i, y_i = X[i].reshape(-1, 1), y[i].reshape(-1, 1)\n",
        "        \n",
        "        y_hat = np.dot(W, X_i) + b\n",
        "        \n",
        "        dL_dy = 2*(y_hat-y_i)\n",
        "        \n",
        "        dy_dW = X_i\n",
        "        dy_db = 1\n",
        "        \n",
        "        dL_dW = np.dot(dL_dy, dy_dW.T)\n",
        "        dL_db = dL_dy * dy_db\n",
        "        \n",
        "        W -= learning_rate * dL_dW\n",
        "        b -= learning_rate * dL_db\n",
        "        \n",
        "        loss += loss_fn(y_hat, y_i)\n",
        "    \n",
        "    loss_history.append(loss)\n",
        "    print(\"Epoch: {}, Loss: {}\".format(epoch+1, loss))"
      ],
      "metadata": {
        "colab": {
          "base_uri": "https://localhost:8080/"
        },
        "id": "O-X5NXmj1Al0",
        "outputId": "4361a364-b61a-400c-8077-01c3cc7b9eb0"
      },
      "execution_count": 12,
      "outputs": [
        {
          "output_type": "stream",
          "name": "stdout",
          "text": [
            "Epoch: 1, Loss: 264862.4840340571\n",
            "Epoch: 2, Loss: 42602.95698499108\n",
            "Epoch: 3, Loss: 8134.39635913498\n",
            "Epoch: 4, Loss: 2181.7922446563066\n",
            "Epoch: 5, Loss: 718.6477218497597\n",
            "Epoch: 6, Loss: 263.15168713364113\n",
            "Epoch: 7, Loss: 103.21729885186886\n",
            "Epoch: 8, Loss: 42.568328363464886\n",
            "Epoch: 9, Loss: 18.225545483795532\n",
            "Epoch: 10, Loss: 8.02995479230118\n",
            "Epoch: 11, Loss: 3.6213456836459903\n",
            "Epoch: 12, Loss: 1.6668531199598065\n",
            "Epoch: 13, Loss: 0.7818243532297857\n",
            "Epoch: 14, Loss: 0.3732892404103828\n",
            "Epoch: 15, Loss: 0.18125647917564686\n",
            "Epoch: 16, Loss: 0.08941647977092733\n",
            "Epoch: 17, Loss: 0.04476533092316057\n",
            "Epoch: 18, Loss: 0.02271717949967197\n",
            "Epoch: 19, Loss: 0.011671260504542438\n",
            "Epoch: 20, Loss: 0.006062907003919537\n",
            "Epoch: 21, Loss: 0.00318048369737181\n",
            "Epoch: 22, Loss: 0.001682743297400212\n",
            "Epoch: 23, Loss: 0.0008969015211320391\n",
            "Epoch: 24, Loss: 0.00048106101828514897\n",
            "Epoch: 25, Loss: 0.0002593904190807274\n",
            "Epoch: 26, Loss: 0.00014048279534393453\n",
            "Epoch: 27, Loss: 7.636122963464322e-05\n",
            "Epoch: 28, Loss: 4.1630811471002934e-05\n",
            "Epoch: 29, Loss: 2.275118503288806e-05\n",
            "Epoch: 30, Loss: 1.2457606269344975e-05\n",
            "Epoch: 31, Loss: 6.831806672012138e-06\n",
            "Epoch: 32, Loss: 3.7511635479167253e-06\n",
            "Epoch: 33, Loss: 2.061629921639878e-06\n",
            "Epoch: 34, Loss: 1.1339038763736581e-06\n",
            "Epoch: 35, Loss: 6.240038922268413e-07\n",
            "Epoch: 36, Loss: 3.4354500834668e-07\n",
            "Epoch: 37, Loss: 1.8919838175911183e-07\n",
            "Epoch: 38, Loss: 1.0421995934810861e-07\n",
            "Epoch: 39, Loss: 5.741886510135447e-08\n",
            "Epoch: 40, Loss: 3.163775897254057e-08\n",
            "Epoch: 41, Loss: 1.7433587719630953e-08\n",
            "Epoch: 42, Loss: 9.606929825537901e-09\n",
            "Epoch: 43, Loss: 5.2940679443024075e-09\n",
            "Epoch: 44, Loss: 2.9173894526981687e-09\n",
            "Epoch: 45, Loss: 1.6076606904414433e-09\n",
            "Epoch: 46, Loss: 8.85903052403313e-10\n",
            "Epoch: 47, Loss: 4.881663419847834e-10\n",
            "Epoch: 48, Loss: 2.6899132467471017e-10\n",
            "Epoch: 49, Loss: 1.4821672877796526e-10\n",
            "Epoch: 50, Loss: 8.16666840305881e-11\n",
            "Epoch: 51, Loss: 4.499683691512608e-11\n",
            "Epoch: 52, Loss: 2.4791870427902114e-11\n",
            "Epoch: 53, Loss: 1.3659282769676931e-11\n",
            "Epoch: 54, Loss: 7.525562022161152e-12\n",
            "Epoch: 55, Loss: 4.146136424415134e-12\n",
            "Epoch: 56, Loss: 2.284246923827942e-12\n",
            "Epoch: 57, Loss: 1.2584572272973605e-12\n",
            "Epoch: 58, Loss: 6.93315526829461e-13\n",
            "Epoch: 59, Loss: 3.819631851781935e-13\n",
            "Epoch: 60, Loss: 2.10431696428652e-13\n",
            "Epoch: 61, Loss: 1.1593131437872482e-13\n",
            "Epoch: 62, Loss: 6.386914458354319e-14\n",
            "Epoch: 63, Loss: 3.518705294981709e-14\n",
            "Epoch: 64, Loss: 1.9385493651104843e-14\n",
            "Epoch: 65, Loss: 1.0680053749518455e-14\n",
            "Epoch: 66, Loss: 5.88400996422064e-15\n",
            "Epoch: 67, Loss: 3.241729511259663e-15\n",
            "Epoch: 68, Loss: 1.7860102136404617e-15\n",
            "Epoch: 69, Loss: 9.840018814342103e-16\n",
            "Epoch: 70, Loss: 5.42141199315535e-16\n",
            "Epoch: 71, Loss: 2.986990472481608e-16\n",
            "Epoch: 72, Loss: 1.645727134865362e-16\n",
            "Epoch: 73, Loss: 9.067532914065905e-17\n",
            "Epoch: 74, Loss: 4.99603211575272e-17\n",
            "Epoch: 75, Loss: 2.752737529008683e-17\n",
            "Epoch: 76, Loss: 1.5167393072961154e-17\n",
            "Epoch: 77, Loss: 8.357236453886045e-18\n",
            "Epoch: 78, Loss: 4.604872088267724e-18\n",
            "Epoch: 79, Loss: 2.537375549603534e-18\n",
            "Epoch: 80, Loss: 1.3981368717305949e-18\n",
            "Epoch: 81, Loss: 7.70419545582286e-19\n",
            "Epoch: 82, Loss: 4.245093880633774e-19\n",
            "Epoch: 83, Loss: 2.339255977322072e-19\n",
            "Epoch: 84, Loss: 1.2890515623372722e-19\n",
            "Epoch: 85, Loss: 7.103220441761967e-20\n",
            "Epoch: 86, Loss: 3.9140321361594065e-20\n",
            "Epoch: 87, Loss: 2.157034125058153e-20\n",
            "Epoch: 88, Loss: 1.1885736999296775e-20\n",
            "Epoch: 89, Loss: 6.551473116098651e-21\n",
            "Epoch: 90, Loss: 3.608661529479704e-21\n",
            "Epoch: 91, Loss: 1.9904599464234895e-21\n",
            "Epoch: 92, Loss: 1.0972997061393548e-21\n",
            "Epoch: 93, Loss: 6.042739325983314e-22\n",
            "Epoch: 94, Loss: 3.3323528634071348e-22\n",
            "Epoch: 95, Loss: 1.836247382220904e-22\n",
            "Epoch: 96, Loss: 1.0130667035988221e-22\n",
            "Epoch: 97, Loss: 5.614561677837946e-23\n",
            "Epoch: 98, Loss: 3.0781637102186113e-23\n",
            "Epoch: 99, Loss: 1.7165022787027187e-23\n",
            "Epoch: 100, Loss: 9.467760629840396e-24\n"
          ]
        }
      ]
    },
    {
      "cell_type": "code",
      "source": [
        "plt.plot(loss_history)"
      ],
      "metadata": {
        "colab": {
          "base_uri": "https://localhost:8080/",
          "height": 282
        },
        "id": "QQBKM60S1D_A",
        "outputId": "760efe38-ea1c-4e7c-b531-1b36135bea04"
      },
      "execution_count": 13,
      "outputs": [
        {
          "output_type": "execute_result",
          "data": {
            "text/plain": [
              "[<matplotlib.lines.Line2D at 0x7fdb4a6a1450>]"
            ]
          },
          "metadata": {},
          "execution_count": 13
        },
        {
          "output_type": "display_data",
          "data": {
            "text/plain": [
              "<Figure size 432x288 with 1 Axes>"
            ],
            "image/png": "[encoded data removed]"
          },
          "metadata": {
            "needs_background": "light"
          }
        }
      ]
    },
    {
      "cell_type": "code",
      "source": [
        "regression.fit(X, y)\n",
        "W, b = regression.coef_, regression.intercept_\n",
        "\n",
        "print(\"Shape of W : {}\".format(W.shape))\n",
        "print(\"Shape of b : {}\".format(b.shape))\n",
        "\n",
        "loss = 0\n",
        "for i in range(n_samples):\n",
        "    y_hat = np.dot(W, X[i]) + b\n",
        "    loss += loss_fn(y_hat, y[i])\n",
        "\n",
        "print(\"\\nLoss = {}\".format(loss))"
      ],
      "metadata": {
        "colab": {
          "base_uri": "https://localhost:8080/"
        },
        "id": "tCDC3v-81IBr",
        "outputId": "ced8109f-b03e-4e43-b7d4-51c9b459fa15"
      },
      "execution_count": 14,
      "outputs": [
        {
          "output_type": "stream",
          "name": "stdout",
          "text": [
            "Shape of W : (10, 500)\n",
            "Shape of b : (10,)\n",
            "\n",
            "Loss = 1.6657726806861823e-24\n"
          ]
        }
      ]
    },
    {
      "cell_type": "code",
      "source": [
        ""
      ],
      "metadata": {
        "id": "ykIbhu6F1Kmr"
      },
      "execution_count": null,
      "outputs": []
    }
  ]
}