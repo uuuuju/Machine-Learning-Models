{
  "nbformat": 4,
  "nbformat_minor": 0,
  "metadata": {
    "colab": {
      "name": "Logistic Regression.ipynb",
      "provenance": [],
      "authorship_tag": "ABX9TyP4ofq+GBBlTeQhJ40nD+J7",
      "include_colab_link": true
    },
    "kernelspec": {
      "name": "python3",
      "display_name": "Python 3"
    },
    "language_info": {
      "name": "python"
    }
  },
  "cells": [
    {
      "cell_type": "markdown",
      "metadata": {
        "id": "view-in-github",
        "colab_type": "text"
      },
      "source": [
        "<a href=\"https://colab.research.google.com/github/uuuuju/Machine-Learning-Models/blob/main/Logistic_Regression.ipynb\" target=\"_parent\"><img src=\"https://colab.research.google.com/assets/colab-badge.svg\" alt=\"Open In Colab\"/></a>"
      ]
    },
    {
      "cell_type": "code",
      "execution_count": 3,
      "metadata": {
        "id": "r5we87azwGwF"
      },
      "outputs": [],
      "source": [
        "import numpy as np\n",
        "import matplotlib.pyplot as plt\n",
        "np.random.seed(43) #seed for reproducible results\n",
        "import math\n",
        "from sklearn.datasets import make_blobs"
      ]
    },
    {
      "cell_type": "code",
      "source": [
        "(X,y) =  make_blobs(n_samples=100,n_features=2,centers=2,cluster_std=1.05,random_state=20) #We will be using logistic regression for classification of a data point into these 2 clases\n",
        "#we need to add 1 to X values (we can say its bias)\n",
        "X1 = np.c_[np.ones((X.shape[0])),X]\n",
        "\n",
        "plt.scatter(X1[:,1],X1[:,2],marker='o',c=y)\n",
        "plt.show()"
      ],
      "metadata": {
        "colab": {
          "base_uri": "https://localhost:8080/",
          "height": 265
        },
        "id": "KE7CxBTZwu4o",
        "outputId": "96def4ff-28a0-487d-e4bf-2ae106d5f38d"
      },
      "execution_count": 5,
      "outputs": [
        {
          "output_type": "display_data",
          "data": {
            "text/plain": [
              "<Figure size 432x288 with 1 Axes>"
            ],
            "image/png": "[encoded data removed]"
          },
          "metadata": {
            "needs_background": "light"
          }
        }
      ]
    },
    {
      "cell_type": "code",
      "source": [
        "X"
      ],
      "metadata": {
        "colab": {
          "base_uri": "https://localhost:8080/"
        },
        "id": "YuFGmglExAId",
        "outputId": "d534ee93-8ede-42b4-e5e6-44ac58236533"
      },
      "execution_count": 6,
      "outputs": [
        {
          "output_type": "execute_result",
          "data": {
            "text/plain": [
              "array([[ 1.89783329,  5.7839784 ],\n",
              "       [ 6.66013694,  5.34738182],\n",
              "       [ 9.77316066,  6.13215277],\n",
              "       [ 7.84705093,  7.26664277],\n",
              "       [ 7.44730427,  6.8383583 ],\n",
              "       [ 2.13802936,  5.49384956],\n",
              "       [ 6.25143787,  7.69641577],\n",
              "       [ 0.75228924,  7.4477011 ],\n",
              "       [ 3.02735286,  9.37366055],\n",
              "       [ 1.51117278,  8.437006  ],\n",
              "       [ 1.50711032,  7.81774231],\n",
              "       [ 8.11629532,  6.39557726],\n",
              "       [ 8.77925074,  4.69433223],\n",
              "       [ 2.48816825,  6.39426897],\n",
              "       [ 9.12977216,  7.19915763],\n",
              "       [ 8.1965279 ,  6.7883236 ],\n",
              "       [ 8.33284692,  5.56579953],\n",
              "       [ 2.31603923,  6.32561879],\n",
              "       [ 8.62054358,  4.91508274],\n",
              "       [ 6.24037808,  5.72900017],\n",
              "       [ 0.89248861,  8.07402454],\n",
              "       [ 7.71951088,  8.42714624],\n",
              "       [ 0.77676001,  5.9577373 ],\n",
              "       [ 9.2654456 ,  4.88536856],\n",
              "       [ 6.98336844,  5.57512367],\n",
              "       [ 0.83284821,  6.7944661 ],\n",
              "       [ 0.78093117,  6.26063483],\n",
              "       [ 7.37044138,  7.80827292],\n",
              "       [ 0.20611172,  7.05530213],\n",
              "       [ 2.74905884,  6.92686946],\n",
              "       [ 9.78661248,  6.00675755],\n",
              "       [ 0.65363857,  8.53626324],\n",
              "       [ 0.41913823,  8.21227549],\n",
              "       [ 2.93875489,  9.35369168],\n",
              "       [ 0.6235418 ,  8.54195566],\n",
              "       [ 7.92177482,  3.67562756],\n",
              "       [ 1.20393281,  9.13632136],\n",
              "       [ 2.91282104,  7.60405358],\n",
              "       [ 9.51690686,  6.15540462],\n",
              "       [ 2.10871003,  6.76092169],\n",
              "       [ 0.86510176,  7.4154722 ],\n",
              "       [ 9.74911319,  5.17592058],\n",
              "       [ 9.8838183 ,  5.90559536],\n",
              "       [ 1.33256603,  9.47405196],\n",
              "       [ 2.28072512,  5.11469105],\n",
              "       [ 7.78737544,  6.0329063 ],\n",
              "       [ 6.13392042,  5.42218671],\n",
              "       [ 8.00473925,  7.1449862 ],\n",
              "       [ 8.1346517 ,  5.82302974],\n",
              "       [ 1.17967093,  7.95585855],\n",
              "       [ 1.1301926 ,  9.57623934],\n",
              "       [ 3.12911689,  6.90973256],\n",
              "       [ 1.64814778,  9.58827032],\n",
              "       [ 7.55675053,  5.38279793],\n",
              "       [ 8.9361511 ,  6.2186047 ],\n",
              "       [ 8.18564726,  6.43126546],\n",
              "       [ 2.22254174,  9.37995302],\n",
              "       [ 0.24867502,  6.46677447],\n",
              "       [ 8.28112133,  6.77495737],\n",
              "       [ 7.85305208,  6.94088575],\n",
              "       [ 5.77062773,  4.37210939],\n",
              "       [ 8.97709553,  7.29806994],\n",
              "       [ 2.4413677 ,  8.46604767],\n",
              "       [ 8.94197879,  7.10127289],\n",
              "       [ 2.66256453,  9.50947539],\n",
              "       [ 8.47102828,  6.2356604 ],\n",
              "       [ 1.86634407,  7.71453748],\n",
              "       [ 9.44514076,  5.2335354 ],\n",
              "       [ 2.10225008,  7.43619313],\n",
              "       [ 0.76509711,  8.85517388],\n",
              "       [ 0.93099839,  7.06978823],\n",
              "       [ 7.95737291,  6.7514759 ],\n",
              "       [ 1.80271811,  8.99323544],\n",
              "       [ 1.40720089,  8.29129388],\n",
              "       [ 7.59048246,  4.66168192],\n",
              "       [ 3.96201463,  8.331675  ],\n",
              "       [ 6.31971652,  5.98991719],\n",
              "       [ 1.58553762,  4.60508663],\n",
              "       [ 1.91341979,  8.74208738],\n",
              "       [ 9.34416638,  6.59902338],\n",
              "       [ 8.69705844,  8.23006525],\n",
              "       [ 1.71621148,  9.60028874],\n",
              "       [ 8.67656729,  6.30357106],\n",
              "       [ 7.99082274,  7.60818963],\n",
              "       [ 2.31673092,  8.11790469],\n",
              "       [ 8.59094823,  6.12758228],\n",
              "       [ 2.44200181,  8.57715263],\n",
              "       [ 5.79228498,  6.67525599],\n",
              "       [ 7.8424075 ,  5.1728486 ],\n",
              "       [ 7.08323975,  7.83198671],\n",
              "       [ 1.53197184,  9.53284262],\n",
              "       [ 0.05163943,  6.04825596],\n",
              "       [ 2.2908677 ,  8.38100975],\n",
              "       [ 8.0602052 ,  5.90422349],\n",
              "       [ 8.71431823,  6.58088008],\n",
              "       [ 2.74212569, 10.11710446],\n",
              "       [ 5.95513752,  6.19950938],\n",
              "       [ 2.86628014,  8.38096141],\n",
              "       [ 1.3378553 ,  9.16064582],\n",
              "       [ 8.54108625,  7.18941061]])"
            ]
          },
          "metadata": {},
          "execution_count": 6
        }
      ]
    },
    {
      "cell_type": "code",
      "source": [
        "X1.shape"
      ],
      "metadata": {
        "colab": {
          "base_uri": "https://localhost:8080/"
        },
        "id": "rrvWJLFsyoNm",
        "outputId": "d7bed840-0c57-4cea-9a7f-0fae0c8e81a0"
      },
      "execution_count": 7,
      "outputs": [
        {
          "output_type": "execute_result",
          "data": {
            "text/plain": [
              "(100, 3)"
            ]
          },
          "metadata": {},
          "execution_count": 7
        }
      ]
    },
    {
      "cell_type": "code",
      "source": [
        "plt.scatter(X1[:,1],y,marker='o',c=y)\n",
        "plt.show()"
      ],
      "metadata": {
        "colab": {
          "base_uri": "https://localhost:8080/",
          "height": 265
        },
        "id": "uvHMk6sUyrqq",
        "outputId": "98b3e579-f1cd-42de-a12f-a400efce7d33"
      },
      "execution_count": 8,
      "outputs": [
        {
          "output_type": "display_data",
          "data": {
            "text/plain": [
              "<Figure size 432x288 with 1 Axes>"
            ],
            "image/png": "[encoded data removed]"
          },
          "metadata": {
            "needs_background": "light"
          }
        }
      ]
    },
    {
      "cell_type": "code",
      "source": [
        "W=np.random.uniform(size=X1.shape[1])\n",
        "W"
      ],
      "metadata": {
        "colab": {
          "base_uri": "https://localhost:8080/"
        },
        "id": "3eILM91cyuiF",
        "outputId": "177e419f-8668-4e2a-f358-a9ec610fc259"
      },
      "execution_count": 9,
      "outputs": [
        {
          "output_type": "execute_result",
          "data": {
            "text/plain": [
              "array([0.11505457, 0.60906654, 0.13339096])"
            ]
          },
          "metadata": {},
          "execution_count": 9
        }
      ]
    },
    {
      "cell_type": "code",
      "source": [
        "def sigmoid(x):\n",
        "    return float(1.0 / float((1.0 + np.exp(-1.0*x))))"
      ],
      "metadata": {
        "id": "ZKcqOlltyw8R"
      },
      "execution_count": 10,
      "outputs": []
    },
    {
      "cell_type": "code",
      "source": [
        "sx=range(-10,10)\n",
        "sy=[]\n",
        "for i in sx:\n",
        "    sy.append(sigmoid(i))\n",
        "\n",
        "plt.plot(sx,sy)\n",
        "plt.show()"
      ],
      "metadata": {
        "colab": {
          "base_uri": "https://localhost:8080/",
          "height": 265
        },
        "id": "iLnNDYciyzga",
        "outputId": "5af4c8f2-c80a-43a1-a8f0-221341bad153"
      },
      "execution_count": 11,
      "outputs": [
        {
          "output_type": "display_data",
          "data": {
            "text/plain": [
              "<Figure size 432x288 with 1 Axes>"
            ],
            "image/png": "[encoded data removed]"
          },
          "metadata": {
            "needs_background": "light"
          }
        }
      ]
    },
    {
      "cell_type": "code",
      "source": [
        "def predict():\n",
        "    predicted_y=[]\n",
        "    \n",
        "    for x in X1:\n",
        "        \n",
        "        logit = x.dot(W) #ϴ0+ϴ1*X\n",
        "        predicted_y.append(sigmoid(logit)) \n",
        "        \n",
        "    return np.array(predicted_y)"
      ],
      "metadata": {
        "id": "4D4ZBEn3y1qz"
      },
      "execution_count": 12,
      "outputs": []
    },
    {
      "cell_type": "code",
      "source": [
        "def cost_function(predicted_y): \n",
        "    \n",
        "    error=(-y*np.log(predicted_y)) - ((1-y)*np.log(1-predicted_y))\n",
        "    cf=(1/X1.shape[0])*sum(error)\n",
        "    \n",
        "    return cf,error"
      ],
      "metadata": {
        "id": "WUYekuHwy4HD"
      },
      "execution_count": 14,
      "outputs": []
    },
    {
      "cell_type": "code",
      "source": [
        "def gradient_descent(lrate,epochs): \n",
        "    \n",
        "    total_expected_error=float(\"inf\")\n",
        "    errorlist=[]\n",
        "    finalepoch=0\n",
        "    \n",
        "    for epoch in range(epochs):\n",
        "        global W\n",
        "        \n",
        "        predictedY=predict() \n",
        "        total_error,error = cost_function(predictedY)\n",
        "        \n",
        "        gradient=X1.T.dot(error)/X1.shape[0]\n",
        "        \n",
        "        if epoch%10==0:\n",
        "            errorlist.append(total_error)\n",
        "            finalepoch+=1\n",
        "          \n",
        "        if (total_expected_error<total_error):\n",
        "            return errorlist,finalepoch\n",
        "            \n",
        "        total_expected_error=total_error\n",
        "        \n",
        "        for (i,w) in enumerate(gradient):\n",
        "            W[i]+=float(-lrate)*w\n",
        "            \n",
        "    return errorlist,finalepoch    "
      ],
      "metadata": {
        "id": "z3aiPkhHy6gJ"
      },
      "execution_count": 17,
      "outputs": []
    },
    {
      "cell_type": "code",
      "source": [
        "total_error,finalepoch=gradient_descent(0.001,100)\n",
        "#plotting \n",
        "plt.plot(range(finalepoch),total_error)\n",
        "plt.xlabel(\"epochs in 10's\")\n",
        "plt.ylabel(\"error\")\n",
        "plt.show()"
      ],
      "metadata": {
        "colab": {
          "base_uri": "https://localhost:8080/",
          "height": 281
        },
        "id": "_kzOpeJuzBiE",
        "outputId": "679affc1-b6af-4006-cbd1-11eb46bf3864"
      },
      "execution_count": 18,
      "outputs": [
        {
          "output_type": "display_data",
          "data": {
            "text/plain": [
              "<Figure size 432x288 with 1 Axes>"
            ],
            "image/png": "[encoded data removed]"
          },
          "metadata": {
            "needs_background": "light"
          }
        }
      ]
    },
    {
      "cell_type": "code",
      "source": [
        "yhat= predict() # we get the probablities scores (between 0 and 1)\n",
        "\n",
        "#if the score is above 0.5 lets make it 1 else make it 0\n",
        "for i,v in enumerate(yhat):\n",
        "    if v >=0.56: \n",
        "        yhat[i]=1\n",
        "    else:\n",
        "        yhat[i]=0\n",
        "\n",
        "yhat.astype(int)"
      ],
      "metadata": {
        "colab": {
          "base_uri": "https://localhost:8080/"
        },
        "id": "4E3esHobzD0I",
        "outputId": "e49c6ae1-a5f4-4c84-b687-a21ef79c5e6b"
      },
      "execution_count": 19,
      "outputs": [
        {
          "output_type": "execute_result",
          "data": {
            "text/plain": [
              "array([0, 1, 1, 1, 1, 0, 1, 0, 0, 0, 0, 1, 1, 0, 1, 1, 1, 0, 1, 1, 0, 1,\n",
              "       0, 1, 1, 0, 0, 1, 0, 0, 1, 0, 0, 0, 0, 1, 0, 0, 1, 0, 0, 1, 1, 0,\n",
              "       0, 1, 1, 1, 1, 0, 0, 0, 0, 1, 1, 1, 0, 0, 1, 1, 1, 1, 0, 1, 0, 1,\n",
              "       0, 1, 0, 0, 0, 1, 0, 0, 1, 0, 1, 0, 0, 1, 1, 0, 1, 1, 0, 1, 0, 1,\n",
              "       1, 1, 0, 0, 0, 1, 1, 0, 1, 0, 0, 1])"
            ]
          },
          "metadata": {},
          "execution_count": 19
        }
      ]
    },
    {
      "cell_type": "code",
      "source": [
        "#actual y\n",
        "y  "
      ],
      "metadata": {
        "colab": {
          "base_uri": "https://localhost:8080/"
        },
        "id": "Aawk9Nj3zGJs",
        "outputId": "0b8cd29b-d69d-43dc-9784-79ab60e298e9"
      },
      "execution_count": 20,
      "outputs": [
        {
          "output_type": "execute_result",
          "data": {
            "text/plain": [
              "array([0, 1, 1, 1, 1, 0, 1, 0, 0, 0, 0, 1, 1, 0, 1, 1, 1, 0, 1, 1, 0, 1,\n",
              "       0, 1, 1, 0, 0, 1, 0, 0, 1, 0, 0, 0, 0, 1, 0, 0, 1, 0, 0, 1, 1, 0,\n",
              "       0, 1, 1, 1, 1, 0, 0, 0, 0, 1, 1, 1, 0, 0, 1, 1, 1, 1, 0, 1, 0, 1,\n",
              "       0, 1, 0, 0, 0, 1, 0, 0, 1, 0, 1, 0, 0, 1, 1, 0, 1, 1, 0, 1, 0, 1,\n",
              "       1, 1, 0, 0, 0, 1, 1, 0, 1, 0, 0, 1])"
            ]
          },
          "metadata": {},
          "execution_count": 20
        }
      ]
    },
    {
      "cell_type": "code",
      "source": [
        "#error and acuracy \n",
        "error=sum((yhat-y)**2)\n",
        "print(error)\n",
        "accuracy=1-(error/100)\n",
        "accuracy "
      ],
      "metadata": {
        "colab": {
          "base_uri": "https://localhost:8080/"
        },
        "id": "8KIj4wxKzIwc",
        "outputId": "f4e82f85-036d-4481-fe4e-e8c1a7635d65"
      },
      "execution_count": 21,
      "outputs": [
        {
          "output_type": "stream",
          "name": "stdout",
          "text": [
            "0.0\n"
          ]
        },
        {
          "output_type": "execute_result",
          "data": {
            "text/plain": [
              "1.0"
            ]
          },
          "metadata": {},
          "execution_count": 21
        }
      ]
    },
    {
      "cell_type": "code",
      "source": [
        "plt.scatter(X1[:,1],X1[:,2],marker='o',c=yhat)\n",
        "plt.show()"
      ],
      "metadata": {
        "colab": {
          "base_uri": "https://localhost:8080/",
          "height": 265
        },
        "id": "Xcry4f81zLVR",
        "outputId": "5c082082-fa13-4e0a-d616-ddcb5508ec65"
      },
      "execution_count": 22,
      "outputs": [
        {
          "output_type": "display_data",
          "data": {
            "text/plain": [
              "<Figure size 432x288 with 1 Axes>"
            ],
            "image/png": "[encoded data removed]"
          },
          "metadata": {
            "needs_background": "light"
          }
        }
      ]
    },
    {
      "cell_type": "code",
      "source": [
        "from sklearn.linear_model import LogisticRegression\n",
        "\n",
        "clf = LogisticRegression()\n",
        "clf.fit(X1,y)  \n",
        "\n",
        "predict_y=clf.predict(X1)"
      ],
      "metadata": {
        "id": "HXrULS-EzNbi"
      },
      "execution_count": 25,
      "outputs": []
    },
    {
      "cell_type": "code",
      "source": [
        "#error and acuracy \n",
        "error=sum((predict_y-y)**2)\n",
        "print(error)\n",
        "accuracy=1-(error/100)\n",
        "accuracy"
      ],
      "metadata": {
        "colab": {
          "base_uri": "https://localhost:8080/"
        },
        "id": "pTVseHLCzPt2",
        "outputId": "54c7f90c-3d77-40f7-a805-53492fd751a1"
      },
      "execution_count": 24,
      "outputs": [
        {
          "output_type": "stream",
          "name": "stdout",
          "text": [
            "0\n"
          ]
        },
        {
          "output_type": "execute_result",
          "data": {
            "text/plain": [
              "1.0"
            ]
          },
          "metadata": {},
          "execution_count": 24
        }
      ]
    },
    {
      "cell_type": "code",
      "source": [
        "predict_y"
      ],
      "metadata": {
        "colab": {
          "base_uri": "https://localhost:8080/"
        },
        "id": "dFpQwlSVzSSP",
        "outputId": "bb87948d-ff34-4a37-c153-d2fb074b0357"
      },
      "execution_count": 26,
      "outputs": [
        {
          "output_type": "execute_result",
          "data": {
            "text/plain": [
              "array([0, 1, 1, 1, 1, 0, 1, 0, 0, 0, 0, 1, 1, 0, 1, 1, 1, 0, 1, 1, 0, 1,\n",
              "       0, 1, 1, 0, 0, 1, 0, 0, 1, 0, 0, 0, 0, 1, 0, 0, 1, 0, 0, 1, 1, 0,\n",
              "       0, 1, 1, 1, 1, 0, 0, 0, 0, 1, 1, 1, 0, 0, 1, 1, 1, 1, 0, 1, 0, 1,\n",
              "       0, 1, 0, 0, 0, 1, 0, 0, 1, 0, 1, 0, 0, 1, 1, 0, 1, 1, 0, 1, 0, 1,\n",
              "       1, 1, 0, 0, 0, 1, 1, 0, 1, 0, 0, 1])"
            ]
          },
          "metadata": {},
          "execution_count": 26
        }
      ]
    },
    {
      "cell_type": "code",
      "source": [
        ""
      ],
      "metadata": {
        "id": "RZrg13dQzW0M"
      },
      "execution_count": null,
      "outputs": []
    }
  ]
}